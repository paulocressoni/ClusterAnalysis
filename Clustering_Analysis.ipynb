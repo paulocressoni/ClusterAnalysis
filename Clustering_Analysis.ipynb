{
  "nbformat": 4,
  "nbformat_minor": 0,
  "metadata": {
    "anaconda-cloud": {},
    "kernelspec": {
      "display_name": "Python 3",
      "language": "python",
      "name": "python3"
    },
    "language_info": {
      "codemirror_mode": {
        "name": "ipython",
        "version": 3
      },
      "file_extension": ".py",
      "mimetype": "text/x-python",
      "name": "python",
      "nbconvert_exporter": "python",
      "pygments_lexer": "ipython3",
      "version": "3.7.4"
    },
    "colab": {
      "name": "Clustering Analysis.ipynb",
      "provenance": [],
      "collapsed_sections": []
    }
  },
  "cells": [
    {
      "cell_type": "markdown",
      "metadata": {
        "id": "k7jAOcdHjutR",
        "colab_type": "text"
      },
      "source": [
        "# Clustering Analysis\n",
        "\n",
        "We'll be using a [power consumption dataset](https://archive.ics.uci.edu/ml/datasets/Individual+household+electric+power+consumption) to explore some clustering techniques."
      ]
    },
    {
      "cell_type": "markdown",
      "metadata": {
        "id": "GQUu1kE2kRzx",
        "colab_type": "text"
      },
      "source": [
        "## Load Libs"
      ]
    },
    {
      "cell_type": "code",
      "metadata": {
        "id": "pFXYAOhvQAaM",
        "colab_type": "code",
        "colab": {}
      },
      "source": [
        "# import libs\n",
        "import pandas as pd\n",
        "import numpy as np\n",
        "from time import time\n",
        "import matplotlib.pyplot as plt\n",
        "from matplotlib import pylab\n",
        "from sklearn.cluster import KMeans\n",
        "from sklearn.decomposition import PCA\n",
        "from sklearn.model_selection import train_test_split\n",
        "from scipy.spatial.distance import cdist, pdist\n",
        "from sklearn.metrics import silhouette_score\n",
        "import warnings\n",
        "warnings.filterwarnings(\"ignore\")\n",
        "%matplotlib inline"
      ],
      "execution_count": 35,
      "outputs": []
    },
    {
      "cell_type": "markdown",
      "metadata": {
        "id": "AWatdalg0mZN",
        "colab_type": "text"
      },
      "source": [
        "## Mount Google Drive"
      ]
    },
    {
      "cell_type": "code",
      "metadata": {
        "id": "0A6fv60w0Nev",
        "colab_type": "code",
        "colab": {}
      },
      "source": [
        "# mount google drive\n",
        "from google.colab import drive\n",
        "drive.mount('/content/drive')"
      ],
      "execution_count": null,
      "outputs": []
    },
    {
      "cell_type": "markdown",
      "metadata": {
        "id": "0veWVBML0h_o",
        "colab_type": "text"
      },
      "source": [
        "## Download dataset"
      ]
    },
    {
      "cell_type": "code",
      "metadata": {
        "id": "uAdUyDyP0OYl",
        "colab_type": "code",
        "colab": {
          "base_uri": "https://localhost:8080/",
          "height": 208
        },
        "outputId": "15273d62-5730-49fc-b1e3-39a67b5c3805"
      },
      "source": [
        "# Download the dataset\n",
        "!wget --no-check-certificate \\\n",
        "    https://archive.ics.uci.edu/ml/machine-learning-databases/00235/household_power_consumption.zip \\\n",
        "    -O /tmp/household_power_consumption.zip"
      ],
      "execution_count": 3,
      "outputs": [
        {
          "output_type": "stream",
          "text": [
            "--2020-08-06 23:49:29--  https://archive.ics.uci.edu/ml/machine-learning-databases/00235/household_power_consumption.zip\n",
            "Resolving archive.ics.uci.edu (archive.ics.uci.edu)... 128.195.10.252\n",
            "Connecting to archive.ics.uci.edu (archive.ics.uci.edu)|128.195.10.252|:443... connected.\n",
            "HTTP request sent, awaiting response... 200 OK\n",
            "Length: 20640916 (20M) [application/x-httpd-php]\n",
            "Saving to: ‘/tmp/household_power_consumption.zip’\n",
            "\n",
            "/tmp/household_powe 100%[===================>]  19.68M  10.8MB/s    in 1.8s    \n",
            "\n",
            "2020-08-06 23:49:31 (10.8 MB/s) - ‘/tmp/household_power_consumption.zip’ saved [20640916/20640916]\n",
            "\n"
          ],
          "name": "stdout"
        }
      ]
    },
    {
      "cell_type": "code",
      "metadata": {
        "id": "DG9FCaon1cmr",
        "colab_type": "code",
        "colab": {
          "base_uri": "https://localhost:8080/",
          "height": 52
        },
        "outputId": "dbee3487-f926-4270-87b9-e5ecc2120f03"
      },
      "source": [
        "# create folder\n",
        "! mkdir /tmp/household_power_consumption\n",
        "# unzip file\n",
        "! unzip /tmp/household_power_consumption.zip -d /tmp/household_power_consumption"
      ],
      "execution_count": 4,
      "outputs": [
        {
          "output_type": "stream",
          "text": [
            "Archive:  /tmp/household_power_consumption.zip\n",
            "  inflating: /tmp/household_power_consumption/household_power_consumption.txt  \n"
          ],
          "name": "stdout"
        }
      ]
    },
    {
      "cell_type": "markdown",
      "metadata": {
        "id": "tBXTLyiO2L5j",
        "colab_type": "text"
      },
      "source": [
        "## Load dataset"
      ]
    },
    {
      "cell_type": "markdown",
      "metadata": {
        "id": "8syPRkep8t2d",
        "colab_type": "text"
      },
      "source": [
        "### Data Set Information:\n",
        "\n",
        "## **For this exercise we'll consider each row to be a single user consumption ##\n",
        "\n",
        "Measurements of electric power consumption in one household with a one-minute sampling rate over a period of almost 4 years. Different electrical quantities and some sub-metering values are available.\n",
        "\n",
        "This archive contains **2075259** measurements gathered in a house located in Sceaux (7km of Paris, France) between December 2006 and November 2010 (47 months).\n",
        "Notes:\n",
        "\n",
        "1. (`global_active_power`*1000/60 - `sub_metering_1` - `sub_metering_2` - `sub_metering_3`) represents the active energy consumed every minute (in watt hour) in the household by electrical equipment not measured in sub-meterings 1, 2 and 3.\n",
        "\n",
        "2. The dataset contains some missing values in the measurements (nearly 1,25% of the rows). All calendar timestamps are present in the dataset but for some timestamps, the measurement values are missing: a missing value is represented by the absence of value between two consecutive semi-colon attribute separators. For instance, the dataset shows missing values on April 28, 2007.\n"
      ]
    },
    {
      "cell_type": "markdown",
      "metadata": {
        "id": "J6cd_i958ypw",
        "colab_type": "text"
      },
      "source": [
        "\n",
        "### Attribute Information:\n",
        "\n",
        "1. `date`: Date in format `dd/mm/yyyy`\n",
        "2. `time`: time in format `hh:mm:ss`\n",
        "3. `global_active_power`: household global minute-averaged active power (in kilowatt)\n",
        "4. `global_reactive_power`: household global minute-averaged reactive power (in kilowatt)\n",
        "5. `voltage`: minute-averaged voltage (in volt)\n",
        "6. `global_intensity`: household global minute-averaged current intensity (in ampere)\n",
        "7. `sub_metering_1`: energy sub-metering No. 1 (in watt-hour of active energy). It corresponds to the kitchen, containing mainly a dishwasher, an oven and a microwave (hot plates are not electric but gas powered).\n",
        "8. `sub_metering_2`: energy sub-metering No. 2 (in watt-hour of active energy). It corresponds to the laundry room, containing a washing-machine, a tumble-drier, a refrigerator and a light.\n",
        "9. `sub_metering_3`: energy sub-metering No. 3 (in watt-hour of active energy). It corresponds to an electric water-heater and an air-conditioner."
      ]
    },
    {
      "cell_type": "code",
      "metadata": {
        "id": "M-jVhT1GQAaa",
        "colab_type": "code",
        "colab": {}
      },
      "source": [
        "# set the dtypes to load them as the propoer types\n",
        "#load_types = {'Global_active_power': 'float', \n",
        "#              'Global_reactive_power': 'float', \n",
        "#              'Voltage': 'float', \n",
        "#              'Global_intensity': 'float', \n",
        "#              'Sub_metering_1': 'float', \n",
        "#              'Sub_metering_2': 'float', \n",
        "#              'Sub_metering_3': 'float'}\n",
        "\n",
        "# Load the dataset\n",
        "dataset = pd.read_csv('/tmp/household_power_consumption/household_power_consumption.txt', \n",
        "                      delimiter = ';', \n",
        "                    #   dtype=load_types,\n",
        "                      low_memory = True)"
      ],
      "execution_count": 5,
      "outputs": []
    },
    {
      "cell_type": "markdown",
      "metadata": {
        "id": "Cowf1iBQAPVc",
        "colab_type": "text"
      },
      "source": [
        "# Exploratory Data Analysis"
      ]
    },
    {
      "cell_type": "code",
      "metadata": {
        "id": "_WNJTUdj4TfZ",
        "colab_type": "code",
        "colab": {
          "base_uri": "https://localhost:8080/",
          "height": 34
        },
        "outputId": "d22a1087-0340-4486-d448-e90dd1025738"
      },
      "source": [
        "dataset.shape"
      ],
      "execution_count": 6,
      "outputs": [
        {
          "output_type": "execute_result",
          "data": {
            "text/plain": [
              "(2075259, 9)"
            ]
          },
          "metadata": {
            "tags": []
          },
          "execution_count": 6
        }
      ]
    },
    {
      "cell_type": "markdown",
      "metadata": {
        "id": "s60piaqN8S0f",
        "colab_type": "text"
      },
      "source": [
        "There must be some issue with most columns, because it will not let us convert to float on load. We'll get back there on time."
      ]
    },
    {
      "cell_type": "code",
      "metadata": {
        "id": "T9aznY7D5W5b",
        "colab_type": "code",
        "colab": {
          "base_uri": "https://localhost:8080/",
          "height": 191
        },
        "outputId": "a88e769e-baea-4434-ab8f-0efd7d741985"
      },
      "source": [
        "dataset.dtypes"
      ],
      "execution_count": 7,
      "outputs": [
        {
          "output_type": "execute_result",
          "data": {
            "text/plain": [
              "Date                      object\n",
              "Time                      object\n",
              "Global_active_power       object\n",
              "Global_reactive_power     object\n",
              "Voltage                   object\n",
              "Global_intensity          object\n",
              "Sub_metering_1            object\n",
              "Sub_metering_2            object\n",
              "Sub_metering_3           float64\n",
              "dtype: object"
            ]
          },
          "metadata": {
            "tags": []
          },
          "execution_count": 7
        }
      ]
    },
    {
      "cell_type": "code",
      "metadata": {
        "id": "LvLUxKIxQAai",
        "colab_type": "code",
        "colab": {
          "base_uri": "https://localhost:8080/",
          "height": 226
        },
        "outputId": "9e45c860-0ac1-433e-a085-6bfdd02ef8df"
      },
      "source": [
        "dataset.head()"
      ],
      "execution_count": 8,
      "outputs": [
        {
          "output_type": "execute_result",
          "data": {
            "text/html": [
              "<div>\n",
              "<style scoped>\n",
              "    .dataframe tbody tr th:only-of-type {\n",
              "        vertical-align: middle;\n",
              "    }\n",
              "\n",
              "    .dataframe tbody tr th {\n",
              "        vertical-align: top;\n",
              "    }\n",
              "\n",
              "    .dataframe thead th {\n",
              "        text-align: right;\n",
              "    }\n",
              "</style>\n",
              "<table border=\"1\" class=\"dataframe\">\n",
              "  <thead>\n",
              "    <tr style=\"text-align: right;\">\n",
              "      <th></th>\n",
              "      <th>Date</th>\n",
              "      <th>Time</th>\n",
              "      <th>Global_active_power</th>\n",
              "      <th>Global_reactive_power</th>\n",
              "      <th>Voltage</th>\n",
              "      <th>Global_intensity</th>\n",
              "      <th>Sub_metering_1</th>\n",
              "      <th>Sub_metering_2</th>\n",
              "      <th>Sub_metering_3</th>\n",
              "    </tr>\n",
              "  </thead>\n",
              "  <tbody>\n",
              "    <tr>\n",
              "      <th>0</th>\n",
              "      <td>16/12/2006</td>\n",
              "      <td>17:24:00</td>\n",
              "      <td>4.216</td>\n",
              "      <td>0.418</td>\n",
              "      <td>234.840</td>\n",
              "      <td>18.400</td>\n",
              "      <td>0.000</td>\n",
              "      <td>1.000</td>\n",
              "      <td>17.0</td>\n",
              "    </tr>\n",
              "    <tr>\n",
              "      <th>1</th>\n",
              "      <td>16/12/2006</td>\n",
              "      <td>17:25:00</td>\n",
              "      <td>5.360</td>\n",
              "      <td>0.436</td>\n",
              "      <td>233.630</td>\n",
              "      <td>23.000</td>\n",
              "      <td>0.000</td>\n",
              "      <td>1.000</td>\n",
              "      <td>16.0</td>\n",
              "    </tr>\n",
              "    <tr>\n",
              "      <th>2</th>\n",
              "      <td>16/12/2006</td>\n",
              "      <td>17:26:00</td>\n",
              "      <td>5.374</td>\n",
              "      <td>0.498</td>\n",
              "      <td>233.290</td>\n",
              "      <td>23.000</td>\n",
              "      <td>0.000</td>\n",
              "      <td>2.000</td>\n",
              "      <td>17.0</td>\n",
              "    </tr>\n",
              "    <tr>\n",
              "      <th>3</th>\n",
              "      <td>16/12/2006</td>\n",
              "      <td>17:27:00</td>\n",
              "      <td>5.388</td>\n",
              "      <td>0.502</td>\n",
              "      <td>233.740</td>\n",
              "      <td>23.000</td>\n",
              "      <td>0.000</td>\n",
              "      <td>1.000</td>\n",
              "      <td>17.0</td>\n",
              "    </tr>\n",
              "    <tr>\n",
              "      <th>4</th>\n",
              "      <td>16/12/2006</td>\n",
              "      <td>17:28:00</td>\n",
              "      <td>3.666</td>\n",
              "      <td>0.528</td>\n",
              "      <td>235.680</td>\n",
              "      <td>15.800</td>\n",
              "      <td>0.000</td>\n",
              "      <td>1.000</td>\n",
              "      <td>17.0</td>\n",
              "    </tr>\n",
              "  </tbody>\n",
              "</table>\n",
              "</div>"
            ],
            "text/plain": [
              "         Date      Time  ... Sub_metering_2 Sub_metering_3\n",
              "0  16/12/2006  17:24:00  ...          1.000           17.0\n",
              "1  16/12/2006  17:25:00  ...          1.000           16.0\n",
              "2  16/12/2006  17:26:00  ...          2.000           17.0\n",
              "3  16/12/2006  17:27:00  ...          1.000           17.0\n",
              "4  16/12/2006  17:28:00  ...          1.000           17.0\n",
              "\n",
              "[5 rows x 9 columns]"
            ]
          },
          "metadata": {
            "tags": []
          },
          "execution_count": 8
        }
      ]
    },
    {
      "cell_type": "markdown",
      "metadata": {
        "id": "GOSxTFgW50yc",
        "colab_type": "text"
      },
      "source": [
        "## Transforming the columns to numeric "
      ]
    },
    {
      "cell_type": "markdown",
      "metadata": {
        "id": "yFnkJPeD5_8Z",
        "colab_type": "text"
      },
      "source": [
        "First of all, we'll remove the date and time columns for the purpose of the exercise on this notebook."
      ]
    },
    {
      "cell_type": "code",
      "metadata": {
        "id": "Q6IfFvQe5_l5",
        "colab_type": "code",
        "colab": {}
      },
      "source": [
        "# select all rows and columns 2, 3, till the last\n",
        "dataset = dataset.iloc[:, 2:]"
      ],
      "execution_count": 9,
      "outputs": []
    },
    {
      "cell_type": "code",
      "metadata": {
        "id": "YmSixjwR56ld",
        "colab_type": "code",
        "colab": {
          "base_uri": "https://localhost:8080/",
          "height": 206
        },
        "outputId": "389137a9-92d6-47cd-d400-1d982a25e04a"
      },
      "source": [
        "dataset.head()"
      ],
      "execution_count": 10,
      "outputs": [
        {
          "output_type": "execute_result",
          "data": {
            "text/html": [
              "<div>\n",
              "<style scoped>\n",
              "    .dataframe tbody tr th:only-of-type {\n",
              "        vertical-align: middle;\n",
              "    }\n",
              "\n",
              "    .dataframe tbody tr th {\n",
              "        vertical-align: top;\n",
              "    }\n",
              "\n",
              "    .dataframe thead th {\n",
              "        text-align: right;\n",
              "    }\n",
              "</style>\n",
              "<table border=\"1\" class=\"dataframe\">\n",
              "  <thead>\n",
              "    <tr style=\"text-align: right;\">\n",
              "      <th></th>\n",
              "      <th>Global_active_power</th>\n",
              "      <th>Global_reactive_power</th>\n",
              "      <th>Voltage</th>\n",
              "      <th>Global_intensity</th>\n",
              "      <th>Sub_metering_1</th>\n",
              "      <th>Sub_metering_2</th>\n",
              "      <th>Sub_metering_3</th>\n",
              "    </tr>\n",
              "  </thead>\n",
              "  <tbody>\n",
              "    <tr>\n",
              "      <th>0</th>\n",
              "      <td>4.216</td>\n",
              "      <td>0.418</td>\n",
              "      <td>234.840</td>\n",
              "      <td>18.400</td>\n",
              "      <td>0.000</td>\n",
              "      <td>1.000</td>\n",
              "      <td>17.0</td>\n",
              "    </tr>\n",
              "    <tr>\n",
              "      <th>1</th>\n",
              "      <td>5.360</td>\n",
              "      <td>0.436</td>\n",
              "      <td>233.630</td>\n",
              "      <td>23.000</td>\n",
              "      <td>0.000</td>\n",
              "      <td>1.000</td>\n",
              "      <td>16.0</td>\n",
              "    </tr>\n",
              "    <tr>\n",
              "      <th>2</th>\n",
              "      <td>5.374</td>\n",
              "      <td>0.498</td>\n",
              "      <td>233.290</td>\n",
              "      <td>23.000</td>\n",
              "      <td>0.000</td>\n",
              "      <td>2.000</td>\n",
              "      <td>17.0</td>\n",
              "    </tr>\n",
              "    <tr>\n",
              "      <th>3</th>\n",
              "      <td>5.388</td>\n",
              "      <td>0.502</td>\n",
              "      <td>233.740</td>\n",
              "      <td>23.000</td>\n",
              "      <td>0.000</td>\n",
              "      <td>1.000</td>\n",
              "      <td>17.0</td>\n",
              "    </tr>\n",
              "    <tr>\n",
              "      <th>4</th>\n",
              "      <td>3.666</td>\n",
              "      <td>0.528</td>\n",
              "      <td>235.680</td>\n",
              "      <td>15.800</td>\n",
              "      <td>0.000</td>\n",
              "      <td>1.000</td>\n",
              "      <td>17.0</td>\n",
              "    </tr>\n",
              "  </tbody>\n",
              "</table>\n",
              "</div>"
            ],
            "text/plain": [
              "  Global_active_power Global_reactive_power  ... Sub_metering_2 Sub_metering_3\n",
              "0               4.216                 0.418  ...          1.000           17.0\n",
              "1               5.360                 0.436  ...          1.000           16.0\n",
              "2               5.374                 0.498  ...          2.000           17.0\n",
              "3               5.388                 0.502  ...          1.000           17.0\n",
              "4               3.666                 0.528  ...          1.000           17.0\n",
              "\n",
              "[5 rows x 7 columns]"
            ]
          },
          "metadata": {
            "tags": []
          },
          "execution_count": 10
        }
      ]
    },
    {
      "cell_type": "code",
      "metadata": {
        "id": "M0JO70Lb9Cgq",
        "colab_type": "code",
        "colab": {
          "base_uri": "https://localhost:8080/",
          "height": 445
        },
        "outputId": "21cf98cf-bb92-49e7-baab-8ef70c36c3ee"
      },
      "source": [
        "pd.to_numeric(dataset['Global_active_power'])"
      ],
      "execution_count": 11,
      "outputs": [
        {
          "output_type": "error",
          "ename": "ValueError",
          "evalue": "ignored",
          "traceback": [
            "\u001b[0;31m---------------------------------------------------------------------------\u001b[0m",
            "\u001b[0;31mValueError\u001b[0m                                Traceback (most recent call last)",
            "\u001b[0;32mpandas/_libs/lib.pyx\u001b[0m in \u001b[0;36mpandas._libs.lib.maybe_convert_numeric\u001b[0;34m()\u001b[0m\n",
            "\u001b[0;31mValueError\u001b[0m: Unable to parse string \"?\"",
            "\nDuring handling of the above exception, another exception occurred:\n",
            "\u001b[0;31mValueError\u001b[0m                                Traceback (most recent call last)",
            "\u001b[0;32m<ipython-input-11-5ac213e62b32>\u001b[0m in \u001b[0;36m<module>\u001b[0;34m()\u001b[0m\n\u001b[0;32m----> 1\u001b[0;31m \u001b[0mpd\u001b[0m\u001b[0;34m.\u001b[0m\u001b[0mto_numeric\u001b[0m\u001b[0;34m(\u001b[0m\u001b[0mdataset\u001b[0m\u001b[0;34m[\u001b[0m\u001b[0;34m'Global_active_power'\u001b[0m\u001b[0;34m]\u001b[0m\u001b[0;34m)\u001b[0m\u001b[0;34m\u001b[0m\u001b[0;34m\u001b[0m\u001b[0m\n\u001b[0m",
            "\u001b[0;32m/usr/local/lib/python3.6/dist-packages/pandas/core/tools/numeric.py\u001b[0m in \u001b[0;36mto_numeric\u001b[0;34m(arg, errors, downcast)\u001b[0m\n\u001b[1;32m    148\u001b[0m         \u001b[0;32mtry\u001b[0m\u001b[0;34m:\u001b[0m\u001b[0;34m\u001b[0m\u001b[0;34m\u001b[0m\u001b[0m\n\u001b[1;32m    149\u001b[0m             values = lib.maybe_convert_numeric(\n\u001b[0;32m--> 150\u001b[0;31m                 \u001b[0mvalues\u001b[0m\u001b[0;34m,\u001b[0m \u001b[0mset\u001b[0m\u001b[0;34m(\u001b[0m\u001b[0;34m)\u001b[0m\u001b[0;34m,\u001b[0m \u001b[0mcoerce_numeric\u001b[0m\u001b[0;34m=\u001b[0m\u001b[0mcoerce_numeric\u001b[0m\u001b[0;34m\u001b[0m\u001b[0;34m\u001b[0m\u001b[0m\n\u001b[0m\u001b[1;32m    151\u001b[0m             )\n\u001b[1;32m    152\u001b[0m         \u001b[0;32mexcept\u001b[0m \u001b[0;34m(\u001b[0m\u001b[0mValueError\u001b[0m\u001b[0;34m,\u001b[0m \u001b[0mTypeError\u001b[0m\u001b[0;34m)\u001b[0m\u001b[0;34m:\u001b[0m\u001b[0;34m\u001b[0m\u001b[0;34m\u001b[0m\u001b[0m\n",
            "\u001b[0;32mpandas/_libs/lib.pyx\u001b[0m in \u001b[0;36mpandas._libs.lib.maybe_convert_numeric\u001b[0;34m()\u001b[0m\n",
            "\u001b[0;31mValueError\u001b[0m: Unable to parse string \"?\" at position 6839"
          ]
        }
      ]
    },
    {
      "cell_type": "code",
      "metadata": {
        "id": "0axINQ9y9230",
        "colab_type": "code",
        "colab": {
          "base_uri": "https://localhost:8080/",
          "height": 156
        },
        "outputId": "7f37dd8d-017b-49b9-9689-b6095f86ae5f"
      },
      "source": [
        "dataset.iloc[6839]"
      ],
      "execution_count": 12,
      "outputs": [
        {
          "output_type": "execute_result",
          "data": {
            "text/plain": [
              "Global_active_power        ?\n",
              "Global_reactive_power      ?\n",
              "Voltage                    ?\n",
              "Global_intensity           ?\n",
              "Sub_metering_1             ?\n",
              "Sub_metering_2             ?\n",
              "Sub_metering_3           NaN\n",
              "Name: 6839, dtype: object"
            ]
          },
          "metadata": {
            "tags": []
          },
          "execution_count": 12
        }
      ]
    },
    {
      "cell_type": "markdown",
      "metadata": {
        "id": "0mFFoROJ-NRl",
        "colab_type": "text"
      },
      "source": [
        "OK. It seems that we have data that were wrongly inputed to the datastet, therefore we can not convert it to the disered numeric format.\n",
        "\n",
        "Let's replace the `?` on the string columns to be able to convert them to numeric."
      ]
    },
    {
      "cell_type": "code",
      "metadata": {
        "id": "_z9_ppJt_0wy",
        "colab_type": "code",
        "colab": {}
      },
      "source": [
        "# replace '?' with Null\n",
        "dataset = dataset.replace('?', '')"
      ],
      "execution_count": 13,
      "outputs": []
    },
    {
      "cell_type": "code",
      "metadata": {
        "id": "4hWiQJhDAekG",
        "colab_type": "code",
        "colab": {}
      },
      "source": [
        "# convert to numeric\n",
        "dataset['Global_active_power'] = pd.to_numeric(dataset['Global_active_power'])\n",
        "dataset['Global_reactive_power'] = pd.to_numeric(dataset['Global_reactive_power'])\n",
        "dataset['Voltage'] = pd.to_numeric(dataset['Voltage'])\n",
        "dataset['Global_intensity'] = pd.to_numeric(dataset['Global_intensity'])\n",
        "dataset['Sub_metering_1'] = pd.to_numeric(dataset['Sub_metering_1'])\n",
        "dataset['Sub_metering_2'] = pd.to_numeric(dataset['Sub_metering_2'])\n",
        "dataset['Sub_metering_3'] = pd.to_numeric(dataset['Sub_metering_3'])"
      ],
      "execution_count": 14,
      "outputs": []
    },
    {
      "cell_type": "code",
      "metadata": {
        "id": "5mBVeYwWDimn",
        "colab_type": "code",
        "colab": {
          "base_uri": "https://localhost:8080/",
          "height": 156
        },
        "outputId": "622ead2e-544c-438c-ea75-8a0ee1dacf64"
      },
      "source": [
        "dataset.dtypes"
      ],
      "execution_count": 15,
      "outputs": [
        {
          "output_type": "execute_result",
          "data": {
            "text/plain": [
              "Global_active_power      float64\n",
              "Global_reactive_power    float64\n",
              "Voltage                  float64\n",
              "Global_intensity         float64\n",
              "Sub_metering_1           float64\n",
              "Sub_metering_2           float64\n",
              "Sub_metering_3           float64\n",
              "dtype: object"
            ]
          },
          "metadata": {
            "tags": []
          },
          "execution_count": 15
        }
      ]
    },
    {
      "cell_type": "markdown",
      "metadata": {
        "id": "NlqVm2RK39SJ",
        "colab_type": "text"
      },
      "source": [
        "## Missing Data"
      ]
    },
    {
      "cell_type": "markdown",
      "metadata": {
        "id": "3OKhMtOj4cwx",
        "colab_type": "text"
      },
      "source": [
        "Let's check for missing data."
      ]
    },
    {
      "cell_type": "code",
      "metadata": {
        "id": "WTBYk7Ll4BCM",
        "colab_type": "code",
        "colab": {
          "base_uri": "https://localhost:8080/",
          "height": 269
        },
        "outputId": "2fcacc56-a9d8-44dc-cb51-10568f82f5f3"
      },
      "source": [
        "# missing data\n",
        "total = dataset.isnull().sum().sort_values(ascending=False)\n",
        "percent = (dataset.isnull().sum()/dataset.isnull().count()).sort_values(ascending=False)\n",
        "missing_data = pd.concat([total, percent], axis=1, keys=['Total', 'Percent'])\n",
        "missing_data.head(10)"
      ],
      "execution_count": 16,
      "outputs": [
        {
          "output_type": "execute_result",
          "data": {
            "text/html": [
              "<div>\n",
              "<style scoped>\n",
              "    .dataframe tbody tr th:only-of-type {\n",
              "        vertical-align: middle;\n",
              "    }\n",
              "\n",
              "    .dataframe tbody tr th {\n",
              "        vertical-align: top;\n",
              "    }\n",
              "\n",
              "    .dataframe thead th {\n",
              "        text-align: right;\n",
              "    }\n",
              "</style>\n",
              "<table border=\"1\" class=\"dataframe\">\n",
              "  <thead>\n",
              "    <tr style=\"text-align: right;\">\n",
              "      <th></th>\n",
              "      <th>Total</th>\n",
              "      <th>Percent</th>\n",
              "    </tr>\n",
              "  </thead>\n",
              "  <tbody>\n",
              "    <tr>\n",
              "      <th>Sub_metering_3</th>\n",
              "      <td>25979</td>\n",
              "      <td>0.012518</td>\n",
              "    </tr>\n",
              "    <tr>\n",
              "      <th>Sub_metering_2</th>\n",
              "      <td>25979</td>\n",
              "      <td>0.012518</td>\n",
              "    </tr>\n",
              "    <tr>\n",
              "      <th>Sub_metering_1</th>\n",
              "      <td>25979</td>\n",
              "      <td>0.012518</td>\n",
              "    </tr>\n",
              "    <tr>\n",
              "      <th>Global_intensity</th>\n",
              "      <td>25979</td>\n",
              "      <td>0.012518</td>\n",
              "    </tr>\n",
              "    <tr>\n",
              "      <th>Voltage</th>\n",
              "      <td>25979</td>\n",
              "      <td>0.012518</td>\n",
              "    </tr>\n",
              "    <tr>\n",
              "      <th>Global_reactive_power</th>\n",
              "      <td>25979</td>\n",
              "      <td>0.012518</td>\n",
              "    </tr>\n",
              "    <tr>\n",
              "      <th>Global_active_power</th>\n",
              "      <td>25979</td>\n",
              "      <td>0.012518</td>\n",
              "    </tr>\n",
              "  </tbody>\n",
              "</table>\n",
              "</div>"
            ],
            "text/plain": [
              "                       Total   Percent\n",
              "Sub_metering_3         25979  0.012518\n",
              "Sub_metering_2         25979  0.012518\n",
              "Sub_metering_1         25979  0.012518\n",
              "Global_intensity       25979  0.012518\n",
              "Voltage                25979  0.012518\n",
              "Global_reactive_power  25979  0.012518\n",
              "Global_active_power    25979  0.012518"
            ]
          },
          "metadata": {
            "tags": []
          },
          "execution_count": 16
        }
      ]
    },
    {
      "cell_type": "markdown",
      "metadata": {
        "id": "WpL6j8G25N4e",
        "colab_type": "text"
      },
      "source": [
        "All the columns have ~1% missing data. As it's a very little proportion to the total, we could delete all these missing rows."
      ]
    },
    {
      "cell_type": "code",
      "metadata": {
        "id": "nmdBglCD4t2x",
        "colab_type": "code",
        "colab": {}
      },
      "source": [
        "# romeve all the rows with missing data\n",
        "dataset = dataset.dropna(axis=0)"
      ],
      "execution_count": 17,
      "outputs": []
    },
    {
      "cell_type": "code",
      "metadata": {
        "id": "t8Z0-L6S4tuk",
        "colab_type": "code",
        "colab": {
          "base_uri": "https://localhost:8080/",
          "height": 269
        },
        "outputId": "2d1ddda2-6b17-42e4-a214-1bc12afc2b71"
      },
      "source": [
        "# missing data\n",
        "total = dataset.isnull().sum().sort_values(ascending=False)\n",
        "percent = (dataset.isnull().sum()/dataset.isnull().count()).sort_values(ascending=False)\n",
        "missing_data = pd.concat([total, percent], axis=1, keys=['Total', 'Percent'])\n",
        "missing_data.head(10)"
      ],
      "execution_count": 18,
      "outputs": [
        {
          "output_type": "execute_result",
          "data": {
            "text/html": [
              "<div>\n",
              "<style scoped>\n",
              "    .dataframe tbody tr th:only-of-type {\n",
              "        vertical-align: middle;\n",
              "    }\n",
              "\n",
              "    .dataframe tbody tr th {\n",
              "        vertical-align: top;\n",
              "    }\n",
              "\n",
              "    .dataframe thead th {\n",
              "        text-align: right;\n",
              "    }\n",
              "</style>\n",
              "<table border=\"1\" class=\"dataframe\">\n",
              "  <thead>\n",
              "    <tr style=\"text-align: right;\">\n",
              "      <th></th>\n",
              "      <th>Total</th>\n",
              "      <th>Percent</th>\n",
              "    </tr>\n",
              "  </thead>\n",
              "  <tbody>\n",
              "    <tr>\n",
              "      <th>Sub_metering_3</th>\n",
              "      <td>0</td>\n",
              "      <td>0.0</td>\n",
              "    </tr>\n",
              "    <tr>\n",
              "      <th>Sub_metering_2</th>\n",
              "      <td>0</td>\n",
              "      <td>0.0</td>\n",
              "    </tr>\n",
              "    <tr>\n",
              "      <th>Sub_metering_1</th>\n",
              "      <td>0</td>\n",
              "      <td>0.0</td>\n",
              "    </tr>\n",
              "    <tr>\n",
              "      <th>Global_intensity</th>\n",
              "      <td>0</td>\n",
              "      <td>0.0</td>\n",
              "    </tr>\n",
              "    <tr>\n",
              "      <th>Voltage</th>\n",
              "      <td>0</td>\n",
              "      <td>0.0</td>\n",
              "    </tr>\n",
              "    <tr>\n",
              "      <th>Global_reactive_power</th>\n",
              "      <td>0</td>\n",
              "      <td>0.0</td>\n",
              "    </tr>\n",
              "    <tr>\n",
              "      <th>Global_active_power</th>\n",
              "      <td>0</td>\n",
              "      <td>0.0</td>\n",
              "    </tr>\n",
              "  </tbody>\n",
              "</table>\n",
              "</div>"
            ],
            "text/plain": [
              "                       Total  Percent\n",
              "Sub_metering_3             0      0.0\n",
              "Sub_metering_2             0      0.0\n",
              "Sub_metering_1             0      0.0\n",
              "Global_intensity           0      0.0\n",
              "Voltage                    0      0.0\n",
              "Global_reactive_power      0      0.0\n",
              "Global_active_power        0      0.0"
            ]
          },
          "metadata": {
            "tags": []
          },
          "execution_count": 18
        }
      ]
    },
    {
      "cell_type": "markdown",
      "metadata": {
        "id": "8Asfa9z6MczR",
        "colab_type": "text"
      },
      "source": [
        "# Working with 1% data sample\n",
        "\n",
        "As we're working with a lot of data and we might have limited resources to process all this data, we can work with a sample of the dataset that reflects the whole dataset.\n",
        "\n",
        "In this case we'll work with a sample of size `1% of the dataset`, nonetheless we could also work with another proportionsas well."
      ]
    },
    {
      "cell_type": "code",
      "metadata": {
        "id": "-HVGMt1_OCDI",
        "colab_type": "code",
        "colab": {
          "base_uri": "https://localhost:8080/",
          "height": 34
        },
        "outputId": "82c16950-f17b-4797-d2d8-e51ef725d8a9"
      },
      "source": [
        "print(f\"Size of the whole dataset: {dataset.shape[0]} rows\")"
      ],
      "execution_count": 19,
      "outputs": [
        {
          "output_type": "stream",
          "text": [
            "Size of the whole dataset: 2049280 rows\n"
          ],
          "name": "stdout"
        }
      ]
    },
    {
      "cell_type": "code",
      "metadata": {
        "id": "_z3AigHI4tmY",
        "colab_type": "code",
        "colab": {}
      },
      "source": [
        "# retrive a sample of dataset\n",
        "_, dataset = train_test_split(dataset, test_size=0.01)"
      ],
      "execution_count": 20,
      "outputs": []
    },
    {
      "cell_type": "code",
      "metadata": {
        "id": "8vf_tbvyL3QR",
        "colab_type": "code",
        "colab": {
          "base_uri": "https://localhost:8080/",
          "height": 34
        },
        "outputId": "991be0c4-72da-414c-d08b-7c4b19d5a7ae"
      },
      "source": [
        "print(f\"Size of the sample dataset: {dataset.shape[0]} rows\")"
      ],
      "execution_count": 24,
      "outputs": [
        {
          "output_type": "stream",
          "text": [
            "Size of the sample dataset: 20493 rows\n"
          ],
          "name": "stdout"
        }
      ]
    },
    {
      "cell_type": "code",
      "metadata": {
        "id": "qJOsIXzv4tec",
        "colab_type": "code",
        "colab": {
          "base_uri": "https://localhost:8080/",
          "height": 34
        },
        "outputId": "789ea618-0f26-435f-c8f1-d5f99bf6dfc1"
      },
      "source": [
        "dataset.shape"
      ],
      "execution_count": 21,
      "outputs": [
        {
          "output_type": "execute_result",
          "data": {
            "text/plain": [
              "(20493, 7)"
            ]
          },
          "metadata": {
            "tags": []
          },
          "execution_count": 21
        }
      ]
    },
    {
      "cell_type": "code",
      "metadata": {
        "id": "BC4JM29f4tWA",
        "colab_type": "code",
        "colab": {
          "base_uri": "https://localhost:8080/",
          "height": 206
        },
        "outputId": "cbeba7e2-8a80-485a-bf58-dab989a58394"
      },
      "source": [
        "dataset.head()"
      ],
      "execution_count": 22,
      "outputs": [
        {
          "output_type": "execute_result",
          "data": {
            "text/html": [
              "<div>\n",
              "<style scoped>\n",
              "    .dataframe tbody tr th:only-of-type {\n",
              "        vertical-align: middle;\n",
              "    }\n",
              "\n",
              "    .dataframe tbody tr th {\n",
              "        vertical-align: top;\n",
              "    }\n",
              "\n",
              "    .dataframe thead th {\n",
              "        text-align: right;\n",
              "    }\n",
              "</style>\n",
              "<table border=\"1\" class=\"dataframe\">\n",
              "  <thead>\n",
              "    <tr style=\"text-align: right;\">\n",
              "      <th></th>\n",
              "      <th>Global_active_power</th>\n",
              "      <th>Global_reactive_power</th>\n",
              "      <th>Voltage</th>\n",
              "      <th>Global_intensity</th>\n",
              "      <th>Sub_metering_1</th>\n",
              "      <th>Sub_metering_2</th>\n",
              "      <th>Sub_metering_3</th>\n",
              "    </tr>\n",
              "  </thead>\n",
              "  <tbody>\n",
              "    <tr>\n",
              "      <th>1285125</th>\n",
              "      <td>0.402</td>\n",
              "      <td>0.174</td>\n",
              "      <td>234.79</td>\n",
              "      <td>1.8</td>\n",
              "      <td>0.0</td>\n",
              "      <td>0.0</td>\n",
              "      <td>1.0</td>\n",
              "    </tr>\n",
              "    <tr>\n",
              "      <th>1504467</th>\n",
              "      <td>0.230</td>\n",
              "      <td>0.000</td>\n",
              "      <td>242.12</td>\n",
              "      <td>0.8</td>\n",
              "      <td>0.0</td>\n",
              "      <td>0.0</td>\n",
              "      <td>0.0</td>\n",
              "    </tr>\n",
              "    <tr>\n",
              "      <th>1977841</th>\n",
              "      <td>0.756</td>\n",
              "      <td>0.214</td>\n",
              "      <td>242.31</td>\n",
              "      <td>3.2</td>\n",
              "      <td>0.0</td>\n",
              "      <td>0.0</td>\n",
              "      <td>11.0</td>\n",
              "    </tr>\n",
              "    <tr>\n",
              "      <th>1692177</th>\n",
              "      <td>0.984</td>\n",
              "      <td>0.066</td>\n",
              "      <td>241.91</td>\n",
              "      <td>4.0</td>\n",
              "      <td>0.0</td>\n",
              "      <td>1.0</td>\n",
              "      <td>1.0</td>\n",
              "    </tr>\n",
              "    <tr>\n",
              "      <th>603319</th>\n",
              "      <td>0.468</td>\n",
              "      <td>0.068</td>\n",
              "      <td>242.83</td>\n",
              "      <td>2.2</td>\n",
              "      <td>0.0</td>\n",
              "      <td>0.0</td>\n",
              "      <td>0.0</td>\n",
              "    </tr>\n",
              "  </tbody>\n",
              "</table>\n",
              "</div>"
            ],
            "text/plain": [
              "         Global_active_power  ...  Sub_metering_3\n",
              "1285125                0.402  ...             1.0\n",
              "1504467                0.230  ...             0.0\n",
              "1977841                0.756  ...            11.0\n",
              "1692177                0.984  ...             1.0\n",
              "603319                 0.468  ...             0.0\n",
              "\n",
              "[5 rows x 7 columns]"
            ]
          },
          "metadata": {
            "tags": []
          },
          "execution_count": 22
        }
      ]
    },
    {
      "cell_type": "markdown",
      "metadata": {
        "id": "qf-PLs7sQVg5",
        "colab_type": "text"
      },
      "source": [
        "# Finding the best K value\n",
        "\n"
      ]
    },
    {
      "cell_type": "code",
      "metadata": {
        "id": "AlZaC47pPpxQ",
        "colab_type": "code",
        "colab": {
          "base_uri": "https://localhost:8080/",
          "height": 590
        },
        "outputId": "2b4be0bd-c6c0-4aab-c960-fa1737807f75"
      },
      "source": [
        "# Inertia = (Squared) Sum of sample distances to your nearest cluster.\n",
        "start = time()\n",
        "# List of K values\n",
        "Ks = range(2, 12)\n",
        "\n",
        "metrics = []\n",
        "centroids = []\n",
        "\n",
        "# loop through K values\n",
        "for K in Ks:\n",
        "    model = KMeans(n_clusters = K, random_state = 101)\n",
        "    model.fit(dataset)\n",
        "    metrics.append(model.inertia_)\n",
        "    centroids.append(model.cluster_centers_)\n",
        "\n",
        "# Calculating the Euclidean distance from each data point to the centroid\n",
        "k_euclid = [cdist(dataset, cent, 'euclidean') for cent in centroids]\n",
        "dist = [np.min(ke, axis = 1) for ke in k_euclid]\n",
        "\n",
        "# Sum of squares of distances within the cluster (inertia)\n",
        "soma_quadrados_intra_cluster = [sum(d**2) for d in dist]\n",
        "\n",
        "# Total sum of squares\n",
        "soma_total = sum(pdist(dataset)**2)/dataset.shape[0]\n",
        "\n",
        "# Sum of squares between clusters\n",
        "soma_quadrados_inter_cluster = soma_total - soma_quadrados_intra_cluster\n",
        "\n",
        "# print execution time\n",
        "print(f\"Execution time: {time() - start:.2f} seconds.\")\n",
        "\n",
        "# plot inertia\n",
        "plt.plot(Ks, metrics, 'o-')\n",
        "plt.xlabel(\"Value of K\")\n",
        "plt.ylabel(\"Inertia\")\n",
        "plt.title('Inertia  x Value of K')\n",
        "plt.grid(axis='both')\n",
        "plt.show()\n",
        "\n",
        "# plot Variance Explained\n",
        "# Inertia / (Squared) Pairwise distances between observations in dataset\n",
        "# or \n",
        "# (Squared) Sum of sample distances to your nearest cluster / (Squared) Pairwise distances between observations in dataset\n",
        "plt.plot(Ks, soma_quadrados_inter_cluster/soma_total * 100, 'o-')\n",
        "plt.grid(True)\n",
        "plt.xlabel('Number of Clusters')\n",
        "plt.ylabel('Percentage of Variance Explained')\n",
        "plt.title('Variance Explained x Value of K')\n",
        "plt.show()"
      ],
      "execution_count": 37,
      "outputs": [
        {
          "output_type": "stream",
          "text": [
            "Execution time: 45.06 seconds.\n"
          ],
          "name": "stdout"
        },
        {
          "output_type": "display_data",
          "data": {
            "image/png": "[encoded data removed]",
            "text/plain": [
              "<Figure size 432x288 with 1 Axes>"
            ]
          },
          "metadata": {
            "tags": [],
            "needs_background": "light"
          }
        },
        {
          "output_type": "display_data",
          "data": {
            "image/png": "[encoded data removed]",
            "text/plain": [
              "<Figure size 432x288 with 1 Axes>"
            ]
          },
          "metadata": {
            "tags": [],
            "needs_background": "light"
          }
        }
      ]
    },
    {
      "cell_type": "markdown",
      "metadata": {
        "id": "bTuPmTq1Xg9h",
        "colab_type": "text"
      },
      "source": [
        "The inertia measured is the squared sum of the sample distances to their nearest cluster. \n",
        "\n",
        "We can observe that the inertia shrunk greatly at the early steps until the K-value of 4. The steps afterwards decreased at a slower pace. That means that it was \"easy\" for the model to divide the data up until it was divided in 4 clusters. After that it was \"harder\" to further divide the dataset. That is known as the \"Elbow-curve\".\n",
        "\n",
        "Nonetheless, that doesn't mean that there is a correct answer to how many clusters to create. It depends on the business problem and also on what your goals with the analysis are.\n",
        "\n",
        "For my analysis I've no previous deep knowledge on the business, therefore I'll consider a smaller number of clusters, but more crearly well divided using the dataset we've got. I'll use 4 clusters to divide my dataset for that purpose."
      ]
    },
    {
      "cell_type": "markdown",
      "metadata": {
        "id": "himC98CLhfZH",
        "colab_type": "text"
      },
      "source": [
        "# Create K-Means Model"
      ]
    },
    {
      "cell_type": "code",
      "metadata": {
        "id": "PijajEGuPpGM",
        "colab_type": "code",
        "colab": {
          "base_uri": "https://localhost:8080/",
          "height": 281
        },
        "outputId": "72cc6ff8-36d2-4195-befb-50d929f5e61f"
      },
      "source": [
        "# transform the dataset to 2D \n",
        "dataset_pca = PCA(n_components=2).fit_transform(dataset)\n",
        "\n",
        "# model with K = 4\n",
        "modelo_v1 = KMeans(n_clusters = 4)\n",
        "\n",
        "# predict the clusters\n",
        "y_km = modelo_v1.fit_predict(dataset_pca)\n",
        "\n",
        "# plot a 2D scatter plot\n",
        "plt.title(f\"K-Means with K={len(set(modelo_v1.labels_))}\")\n",
        "plt.scatter(dataset_pca[:, 0], dataset_pca[:, 1], c = y_km, edgecolors = 'none')\n",
        "plt.show()"
      ],
      "execution_count": 43,
      "outputs": [
        {
          "output_type": "display_data",
          "data": {
            "image/png": "[encoded data removed]",
            "text/plain": [
              "<Figure size 432x288 with 1 Axes>"
            ]
          },
          "metadata": {
            "tags": [],
            "needs_background": "light"
          }
        }
      ]
    },
    {
      "cell_type": "markdown",
      "metadata": {
        "id": "YfkbsOGHht0D",
        "colab_type": "text"
      },
      "source": [
        "## Silhouette Score\n",
        "\n",
        "The silhouette value is a measure of how similar an object is to its own cluster (cohesion) compared to other clusters (separation).\n",
        "\n",
        "The best value is 1 and the worst value is -1. Values near 0 indicate overlapping clusters. Negative values generally indicate that a sample has been assigned to the wrong cluster, as a different cluster is more similar."
      ]
    },
    {
      "cell_type": "code",
      "metadata": {
        "id": "RmLYTwi2hu6b",
        "colab_type": "code",
        "colab": {
          "base_uri": "https://localhost:8080/",
          "height": 34
        },
        "outputId": "f4c8e655-ed24-46b1-addf-956ca8232958"
      },
      "source": [
        "# Silhouette Score\n",
        "labels = modelo_v1.labels_\n",
        "silhouette_score(dataset_pca, labels, metric = 'euclidean')"
      ],
      "execution_count": 45,
      "outputs": [
        {
          "output_type": "execute_result",
          "data": {
            "text/plain": [
              "0.8568965629132594"
            ]
          },
          "metadata": {
            "tags": []
          },
          "execution_count": 45
        }
      ]
    },
    {
      "cell_type": "markdown",
      "metadata": {
        "id": "B0xN4heP4nLk",
        "colab_type": "text"
      },
      "source": [
        "# References\n",
        "\n",
        "- https://archive.ics.uci.edu/ml/datasets/Individual+household+electric+power+consumption\n",
        "\n",
        "- https://en.wikipedia.org/wiki/Silhouette_(clustering)\n",
        "\n",
        "- https://scikit-learn.org/stable/modules/generated/sklearn.metrics.silhouette_score.html\n",
        "\n",
        "- https://scikit-learn.org/stable/modules/generated/sklearn.cluster.KMeans.html\n",
        "\n",
        "- https://scikit-learn.org/stable/modules/clustering.html"
      ]
    }
  ]
}